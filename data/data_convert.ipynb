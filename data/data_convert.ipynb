{
 "cells": [
  {
   "cell_type": "code",
   "execution_count": 1,
   "metadata": {},
   "outputs": [],
   "source": [
    "import pickle\n",
    "from datetime import datetime\n",
    "import pandas as pd \n",
    "import os"
   ]
  },
  {
   "cell_type": "code",
   "execution_count": 2,
   "metadata": {},
   "outputs": [],
   "source": [
    "def load_pickle(data_path):\n",
    "    with open(data_path,'rb') as f:\n",
    "        data = pickle.load(f)\n",
    "    return data\n",
    "def save_pickle(data,save_path):\n",
    "    with open(save_path,'wb') as f:\n",
    "        pickle.dump(data,f)"
   ]
  },
  {
   "cell_type": "markdown",
   "metadata": {},
   "source": [
    "## 1. convert to Recbole and SFT format"
   ]
  },
  {
   "cell_type": "markdown",
   "metadata": {},
   "source": [
    "### 1. Recoble format\n",
    "- category.pickle\n",
    "- dataset_name.inter\n",
    "- dataset_name.item\n",
    "\n",
    "### 2. SFT format\n",
    "- category.pickle 'category': [item_ids]\n",
    "- metas.pickle 'item_id': {'item_id', 'title'}\n",
    "- sequential.pickle 'user_id': [item_ids]"
   ]
  },
  {
   "cell_type": "code",
   "execution_count": 21,
   "metadata": {},
   "outputs": [
    {
     "data": {
      "text/html": [
       "<div>\n",
       "<style scoped>\n",
       "    .dataframe tbody tr th:only-of-type {\n",
       "        vertical-align: middle;\n",
       "    }\n",
       "\n",
       "    .dataframe tbody tr th {\n",
       "        vertical-align: top;\n",
       "    }\n",
       "\n",
       "    .dataframe thead th {\n",
       "        text-align: right;\n",
       "    }\n",
       "</style>\n",
       "<table border=\"1\" class=\"dataframe\">\n",
       "  <thead>\n",
       "    <tr style=\"text-align: right;\">\n",
       "      <th></th>\n",
       "      <th>user_id</th>\n",
       "      <th>interactions</th>\n",
       "    </tr>\n",
       "  </thead>\n",
       "  <tbody>\n",
       "    <tr>\n",
       "      <th>0</th>\n",
       "      <td>1</td>\n",
       "      <td>[(Hasbro Electronic Catch Phrase, B001RNFQNK, ...</td>\n",
       "    </tr>\n",
       "    <tr>\n",
       "      <th>1</th>\n",
       "      <td>2</td>\n",
       "      <td>[(Megabloks CAT 3in1 Ride On Truck, B0050K0AQE...</td>\n",
       "    </tr>\n",
       "    <tr>\n",
       "      <th>2</th>\n",
       "      <td>3</td>\n",
       "      <td>[(Lost Cities, B00005UNAV, [Toys &amp; Games, Game...</td>\n",
       "    </tr>\n",
       "    <tr>\n",
       "      <th>3</th>\n",
       "      <td>4</td>\n",
       "      <td>[(Mastermind, B00000DMBF, [Toys &amp; Games, Games...</td>\n",
       "    </tr>\n",
       "    <tr>\n",
       "      <th>4</th>\n",
       "      <td>5</td>\n",
       "      <td>[(Fisher-Price Brilliant Basics Rock-a-Stack, ...</td>\n",
       "    </tr>\n",
       "  </tbody>\n",
       "</table>\n",
       "</div>"
      ],
      "text/plain": [
       "  user_id                                       interactions\n",
       "0       1  [(Hasbro Electronic Catch Phrase, B001RNFQNK, ...\n",
       "1       2  [(Megabloks CAT 3in1 Ride On Truck, B0050K0AQE...\n",
       "2       3  [(Lost Cities, B00005UNAV, [Toys & Games, Game...\n",
       "3       4  [(Mastermind, B00000DMBF, [Toys & Games, Games...\n",
       "4       5  [(Fisher-Price Brilliant Basics Rock-a-Stack, ..."
      ]
     },
     "execution_count": 21,
     "metadata": {},
     "output_type": "execute_result"
    }
   ],
   "source": [
    "file_path = '/home/wangshuo/codes/rec-scope/constraint_search/data/Toys/base/toys_final.pickle'\n",
    "final_df = load_pickle(file_path)\n",
    "final_df.head()"
   ]
  },
  {
   "cell_type": "code",
   "execution_count": null,
   "metadata": {},
   "outputs": [],
   "source": [
    "final_df.iloc[0]['interactions']"
   ]
  },
  {
   "cell_type": "code",
   "execution_count": 11,
   "metadata": {},
   "outputs": [],
   "source": [
    "import ast\n",
    "def covert_to_list(tags_str):\n",
    "    try:\n",
    "        tags = ast.literal_eval(tags_str)\n",
    "        all_tags = []\n",
    "        for tag in tags:\n",
    "            all_tags.extend(tag)\n",
    "        return all_tags\n",
    "    except:\n",
    "        return []"
   ]
  },
  {
   "cell_type": "code",
   "execution_count": 50,
   "metadata": {},
   "outputs": [
    {
     "name": "stdout",
     "output_type": "stream",
     "text": [
      "miss_count: 17\n",
      "miss_titile: 787\n",
      "empty_count: 35\n"
     ]
    }
   ],
   "source": [
    "\n",
    "sequential = {}\n",
    "metas ={}\n",
    "category = {}\n",
    "iter =[]\n",
    "item_recbole = []\n",
    "item_list =[]\n",
    "COMMON_TAG = 'toys'\n",
    "miss_count = 0\n",
    "miss_titile =0 \n",
    "empty_count = 0\n",
    "\n",
    "for index, row in final_df.iterrows():\n",
    "    user_id = str(row['user_id'])\n",
    "    # interactions(item_title,item_id, timestamp, tags(list))\n",
    "    interactions = row['interactions']\n",
    "    item_ids = []\n",
    "\n",
    "    for interaction in interactions:\n",
    "        if type(interaction[0]) != str:\n",
    "            miss_titile += 1\n",
    "            continue\n",
    "        item_title = interaction[0].strip()\n",
    "        item_id = str(interaction[1])\n",
    "        tags = interaction[2]\n",
    "        timestamp = interaction[3]\n",
    "        \n",
    "        \n",
    "        if len(tags) == 0:\n",
    "            tags = [COMMON_TAG]\n",
    "            miss_count += 1\n",
    "\n",
    "        for tag in tags:\n",
    "            tag =tag.strip()\n",
    "            if tag not in category:\n",
    "                category[tag] = []\n",
    "            if item_id not in category[tag]:\n",
    "                category[tag].append(item_id)\n",
    "            # category[tag].append(item_id)\n",
    "        iter.append({\"user_id:token\":user_id,\"item_id:token\":item_id,\"timestamp:float\":float(timestamp)})\n",
    "        # item_recbole.append({\"item_id:token\":item_id,\"timestamp:float\":toTimestamp(timestamp)})\n",
    "        item_ids.append(item_id)\n",
    "        metas[item_id]={\"title\":item_title}\n",
    "        item_list.append(item_title)\n",
    "    \n",
    "    if len(item_ids) <= 3:\n",
    "        empty_count += 1\n",
    "        continue\n",
    "    sequential[user_id]=item_ids\n",
    "print('miss_count:',miss_count)\n",
    "print(\"miss_titile:\",miss_titile)\n",
    "print(\"empty_count:\",empty_count)"
   ]
  },
  {
   "cell_type": "code",
   "execution_count": 26,
   "metadata": {},
   "outputs": [
    {
     "data": {
      "text/plain": [
       "11862"
      ]
     },
     "execution_count": 26,
     "metadata": {},
     "output_type": "execute_result"
    }
   ],
   "source": [
    "len(metas)"
   ]
  },
  {
   "cell_type": "code",
   "execution_count": 52,
   "metadata": {},
   "outputs": [],
   "source": [
    "iter_df = pd.DataFrame(iter)\n",
    "iter_df = iter_df[[\"user_id:token\",\"item_id:token\",\"timestamp:float\"]]\n",
    "iter_df.to_csv(\"/home/wangshuo/codes/InstructControllableRec_RLHF/SASRec/dataset/toys/toys.inter\",index=False,sep='\\t')"
   ]
  },
  {
   "cell_type": "code",
   "execution_count": 51,
   "metadata": {},
   "outputs": [],
   "source": [
    "save_base_dir = \"/home/wangshuo/codes/InstructControllableRec_RLHF/data/dataset/toys/\"\n",
    "save_pickle(sequential,os.path.join(save_base_dir,\"sequential.pickle\"))\n",
    "save_pickle(metas,os.path.join(save_base_dir,\"metas.pickle\"))\n",
    "save_pickle(category,os.path.join(save_base_dir,\"category.pickle\"))\n",
    "save_pickle(item_list,os.path.join(save_base_dir,\"items.pickle\"))"
   ]
  },
  {
   "cell_type": "code",
   "execution_count": 49,
   "metadata": {},
   "outputs": [
    {
     "data": {
      "text/plain": [
       "['B007U7M0L8', 'B0015ZITNY', '0911121013']"
      ]
     },
     "execution_count": 49,
     "metadata": {},
     "output_type": "execute_result"
    }
   ],
   "source": [
    "sequential['10158']"
   ]
  },
  {
   "cell_type": "code",
   "execution_count": 48,
   "metadata": {},
   "outputs": [
    {
     "name": "stdout",
     "output_type": "stream",
     "text": [
      "0\n"
     ]
    }
   ],
   "source": [
    "empty_count=0\n",
    "for key in sequential.keys():\n",
    "    if len(sequential[key]) <= 2:\n",
    "        print(key,sequential[key])\n",
    "        empty_count += 1\n",
    "print(empty_count)"
   ]
  },
  {
   "cell_type": "code",
   "execution_count": 4,
   "metadata": {},
   "outputs": [],
   "source": [
    "save_base_dir = \"/home/wangshuo/codes/InstructControllableRec_RLHF/data/dataset/steam/\"\n",
    "data = load_pickle(os.path.join(save_base_dir,\"metas.pickle\"))"
   ]
  },
  {
   "cell_type": "code",
   "execution_count": 16,
   "metadata": {},
   "outputs": [
    {
     "data": {
      "text/plain": [
       "555"
      ]
     },
     "execution_count": 16,
     "metadata": {},
     "output_type": "execute_result"
    }
   ],
   "source": [
    "len(set(category[COMMON_TAG]))"
   ]
  },
  {
   "cell_type": "code",
   "execution_count": null,
   "metadata": {},
   "outputs": [],
   "source": [
    "data1=load_pickle(\"/home/wangshuo/codes/InstructControllableRec_RLHF/snap/0208-toys-ctrl/Epoch35_SFT.pth_Result_SFTTestSeqRec_Top10.pickle\")\n",
    "data1"
   ]
  },
  {
   "cell_type": "code",
   "execution_count": 6,
   "metadata": {},
   "outputs": [],
   "source": [
    "data2=load_pickle(\"/home/wangshuo/codes/rec-scope/constraint_search/data/steam/base/items.pickle\")"
   ]
  },
  {
   "cell_type": "code",
   "execution_count": 7,
   "metadata": {},
   "outputs": [
    {
     "name": "stdout",
     "output_type": "stream",
     "text": [
      "0\n"
     ]
    }
   ],
   "source": [
    "not_in = []\n",
    "for item in data1:\n",
    "    if item not in data2:\n",
    "        not_in.append(item)\n",
    "print(len(not_in))"
   ]
  },
  {
   "cell_type": "code",
   "execution_count": 18,
   "metadata": {},
   "outputs": [
    {
     "data": {
      "text/plain": [
       "True"
      ]
     },
     "execution_count": 18,
     "metadata": {},
     "output_type": "execute_result"
    }
   ],
   "source": [
    "'The Witcher® 3: Wild Hunt' in data2"
   ]
  }
 ],
 "metadata": {
  "kernelspec": {
   "display_name": "rec-scope",
   "language": "python",
   "name": "python3"
  },
  "language_info": {
   "codemirror_mode": {
    "name": "ipython",
    "version": 3
   },
   "file_extension": ".py",
   "mimetype": "text/x-python",
   "name": "python",
   "nbconvert_exporter": "python",
   "pygments_lexer": "ipython3",
   "version": "3.10.13"
  }
 },
 "nbformat": 4,
 "nbformat_minor": 2
}

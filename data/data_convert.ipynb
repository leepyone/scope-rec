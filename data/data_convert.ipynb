{
 "cells": [
  {
   "cell_type": "code",
   "execution_count": 1,
   "metadata": {},
   "outputs": [],
   "source": [
    "import pickle\n",
    "from datetime import datetime\n",
    "import pandas as pd \n",
    "import os"
   ]
  },
  {
   "cell_type": "code",
   "execution_count": 2,
   "metadata": {},
   "outputs": [],
   "source": [
    "def load_pickle(data_path):\n",
    "    with open(data_path,'rb') as f:\n",
    "        data = pickle.load(f)\n",
    "    return data\n",
    "def save_pickle(data,save_path):\n",
    "    with open(save_path,'wb') as f:\n",
    "        pickle.dump(data,f)"
   ]
  },
  {
   "cell_type": "markdown",
   "metadata": {},
   "source": [
    "## 1. convert to Recbole and SFT format"
   ]
  },
  {
   "cell_type": "markdown",
   "metadata": {},
   "source": [
    "### 1. Recoble format\n",
    "- category.pickle\n",
    "- dataset_name.inter\n",
    "- dataset_name.item\n",
    "\n",
    "### 2. SFT format\n",
    "- category.pickle 'category': [item_ids]\n",
    "- metas.pickle 'item_id': {'item_id', 'title'}\n",
    "- sequential.pickle 'user_id': [item_ids]"
   ]
  },
  {
   "cell_type": "code",
   "execution_count": 3,
   "metadata": {},
   "outputs": [
    {
     "data": {
      "text/html": [
       "<div>\n",
       "<style scoped>\n",
       "    .dataframe tbody tr th:only-of-type {\n",
       "        vertical-align: middle;\n",
       "    }\n",
       "\n",
       "    .dataframe tbody tr th {\n",
       "        vertical-align: top;\n",
       "    }\n",
       "\n",
       "    .dataframe thead th {\n",
       "        text-align: right;\n",
       "    }\n",
       "</style>\n",
       "<table border=\"1\" class=\"dataframe\">\n",
       "  <thead>\n",
       "    <tr style=\"text-align: right;\">\n",
       "      <th></th>\n",
       "      <th>user_id</th>\n",
       "      <th>interactions</th>\n",
       "    </tr>\n",
       "  </thead>\n",
       "  <tbody>\n",
       "    <tr>\n",
       "      <th>7503577</th>\n",
       "      <td>7878071</td>\n",
       "      <td>[(Divinity: Original Sin - Enhanced Edition, 3...</td>\n",
       "    </tr>\n",
       "    <tr>\n",
       "      <th>6563456</th>\n",
       "      <td>6917694</td>\n",
       "      <td>[(Prison Architect, 233450, 2016-03-01 00:00:0...</td>\n",
       "    </tr>\n",
       "    <tr>\n",
       "      <th>7873593</th>\n",
       "      <td>8256766</td>\n",
       "      <td>[(The Long Dark, 305620, 2015-03-10 00:00:00, ...</td>\n",
       "    </tr>\n",
       "    <tr>\n",
       "      <th>8656357</th>\n",
       "      <td>9059167</td>\n",
       "      <td>[(Darkest Dungeon®, 262060, 2015-08-24 00:00:0...</td>\n",
       "    </tr>\n",
       "    <tr>\n",
       "      <th>10574607</th>\n",
       "      <td>11030775</td>\n",
       "      <td>[(Space Engineers, 244850, 2014-04-10 00:00:00...</td>\n",
       "    </tr>\n",
       "  </tbody>\n",
       "</table>\n",
       "</div>"
      ],
      "text/plain": [
       "           user_id                                       interactions\n",
       "7503577    7878071  [(Divinity: Original Sin - Enhanced Edition, 3...\n",
       "6563456    6917694  [(Prison Architect, 233450, 2016-03-01 00:00:0...\n",
       "7873593    8256766  [(The Long Dark, 305620, 2015-03-10 00:00:00, ...\n",
       "8656357    9059167  [(Darkest Dungeon®, 262060, 2015-08-24 00:00:0...\n",
       "10574607  11030775  [(Space Engineers, 244850, 2014-04-10 00:00:00..."
      ]
     },
     "execution_count": 3,
     "metadata": {},
     "output_type": "execute_result"
    }
   ],
   "source": [
    "file_path = '/home/wangshuo/codes/rec-scope/cbs/train_on_output/dataset/steam/base/steam_final.pickle'\n",
    "final_df = load_pickle(file_path)\n",
    "final_df.head()"
   ]
  },
  {
   "cell_type": "code",
   "execution_count": null,
   "metadata": {},
   "outputs": [],
   "source": [
    "final_df.iloc[0]['interactions']"
   ]
  },
  {
   "cell_type": "code",
   "execution_count": 8,
   "metadata": {},
   "outputs": [
    {
     "name": "stdout",
     "output_type": "stream",
     "text": [
      "miss_count: 66209\n"
     ]
    }
   ],
   "source": [
    "sequential = {}\n",
    "metas ={}\n",
    "category = {}\n",
    "iter =[]\n",
    "item_recbole = []\n",
    "COMMON_TAG = 'game'\n",
    "miss_count = 0\n",
    "\n",
    "for index, row in final_df.iterrows():\n",
    "    user_id = str(row['user_id'])\n",
    "    # interactions(item_title,item_id, timestamp, tags(list))\n",
    "    interactions = row['interactions']\n",
    "    item_ids = []\n",
    "    for interaction in interactions:\n",
    "        item_title = interaction[0].strip()\n",
    "        item_id = str(interaction[1])\n",
    "        timestamp = interaction[2]\n",
    "        tags = interaction[3]\n",
    "        \n",
    "        if len(tags) == 0:\n",
    "            tags = [COMMON_TAG]\n",
    "            miss_count += 1\n",
    "\n",
    "        for tag in tags:\n",
    "            tag =tag.strip()\n",
    "            if tag not in category:\n",
    "                category[tag] = []\n",
    "            if item_id not in category[tag]:\n",
    "                category[tag].append(item_id)\n",
    "            # category[tag].append(item_id)\n",
    "        iter.append({\"user_id:token\":user_id,\"item_id:token\":item_id,\"timestamp:float\":timestamp.timestamp()})\n",
    "        # item_recbole.append({\"item_id:token\":item_id,\"timestamp:float\":toTimestamp(timestamp)})\n",
    "        item_ids.append(item_id)\n",
    "        metas[item_id]={\"title\":item_title}\n",
    "    \n",
    "    sequential[user_id]=item_ids\n",
    "print('miss_count:',miss_count)\n"
   ]
  },
  {
   "cell_type": "code",
   "execution_count": 34,
   "metadata": {},
   "outputs": [],
   "source": [
    "iter_df = pd.DataFrame(iter)\n",
    "iter_df = iter_df[[\"user_id:token\",\"item_id:token\",\"timestamp:float\"]]\n",
    "iter_df.to_csv(\"/home/wangshuo/codes/InstructControllableRec_RLHF/SASRec/dataset/steam/steam.inter\",index=False,sep='\\t')"
   ]
  },
  {
   "cell_type": "code",
   "execution_count": 7,
   "metadata": {},
   "outputs": [],
   "source": [
    "save_base_dir = \"/home/wangshuo/codes/InstructControllableRec_RLHF/data/dataset/steam/\"\n",
    "save_pickle(sequential,os.path.join(save_base_dir,\"sequential.pickle\"))\n",
    "save_pickle(metas,os.path.join(save_base_dir,\"metas.pickle\"))\n",
    "save_pickle(category,os.path.join(save_base_dir,\"category.pickle\"))"
   ]
  },
  {
   "cell_type": "code",
   "execution_count": 4,
   "metadata": {},
   "outputs": [],
   "source": [
    "save_base_dir = \"/home/wangshuo/codes/InstructControllableRec_RLHF/data/dataset/steam/\"\n",
    "data = load_pickle(os.path.join(save_base_dir,\"metas.pickle\"))"
   ]
  },
  {
   "cell_type": "code",
   "execution_count": 16,
   "metadata": {},
   "outputs": [
    {
     "data": {
      "text/plain": [
       "555"
      ]
     },
     "execution_count": 16,
     "metadata": {},
     "output_type": "execute_result"
    }
   ],
   "source": [
    "len(set(category[COMMON_TAG]))"
   ]
  }
 ],
 "metadata": {
  "kernelspec": {
   "display_name": "rec-scope",
   "language": "python",
   "name": "python3"
  },
  "language_info": {
   "codemirror_mode": {
    "name": "ipython",
    "version": 3
   },
   "file_extension": ".py",
   "mimetype": "text/x-python",
   "name": "python",
   "nbconvert_exporter": "python",
   "pygments_lexer": "ipython3",
   "version": "3.10.13"
  }
 },
 "nbformat": 4,
 "nbformat_minor": 2
}
